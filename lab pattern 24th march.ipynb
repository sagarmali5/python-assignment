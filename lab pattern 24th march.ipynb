{
 "cells": [
  {
   "cell_type": "markdown",
   "id": "a94ba31b",
   "metadata": {},
   "source": [
    "print\n",
    "1  \n",
    "1 2  \n",
    "1 2 3  \n",
    "1 2 3 4  \n",
    "1 2 3 4 5"
   ]
  },
  {
   "cell_type": "code",
   "execution_count": 124,
   "id": "f32fbe8e",
   "metadata": {},
   "outputs": [
    {
     "name": "stdout",
     "output_type": "stream",
     "text": [
      "Enter a no: 5\n",
      "1  \n",
      "1 2  \n",
      "1 2 3  \n",
      "1 2 3 4  \n",
      "1 2 3 4 5  \n"
     ]
    }
   ],
   "source": [
    "n=int(input(\"Enter a no: \"))\n",
    "for i in range(1,n+1):#\n",
    "    for j in range(1,i+1):\n",
    "        print(j, end=\" \")\n",
    "    print(\" \")"
   ]
  },
  {
   "cell_type": "markdown",
   "id": "0f14866f",
   "metadata": {},
   "source": []
  },
  {
   "cell_type": "code",
   "execution_count": 7,
   "id": "f0fba7a3",
   "metadata": {},
   "outputs": [
    {
     "name": "stdout",
     "output_type": "stream",
     "text": [
      "Enter a no: 5\n",
      "1  \n",
      "2 2  \n",
      "3 3 3  \n",
      "4 4 4 4  \n",
      "5 5 5 5 5  \n"
     ]
    }
   ],
   "source": [
    "#pattern3\n",
    "n=int(input(\"Enter a no: \"))\n",
    "for i in range(1,n+1):#to print rows\n",
    "    for j in range(1,i+1):#to print coloumns\n",
    "        print(i, end=\" \")\n",
    "    print(\" \")"
   ]
  },
  {
   "cell_type": "code",
   "execution_count": 11,
   "id": "c02cd94c",
   "metadata": {},
   "outputs": [
    {
     "name": "stdout",
     "output_type": "stream",
     "text": [
      "Enter a no: 5\n",
      "1  \n",
      "1 2  \n",
      "1 2 3  \n",
      "1 2 3 4  \n",
      "1 2 3 4 5  \n",
      "1 2 3 4  \n",
      "1 2 3  \n",
      "1 2  \n",
      "1  \n"
     ]
    }
   ],
   "source": [
    "#pattern4\n",
    "n=int(input(\"Enter a no: \"))\n",
    "for i in range(1,n+1):#to print rows\n",
    "    for j in range(1,i+1):#to print coloumns\n",
    "        print(j, end=\" \")\n",
    "    print(\" \")\n",
    "for a in range(1,n):#to print rows\n",
    "    for b in range(1,n-a+1):#to print coloumns\n",
    "        print(b, end=\" \")\n",
    "    print(\" \")"
   ]
  },
  {
   "cell_type": "code",
   "execution_count": 15,
   "id": "bbf9107f",
   "metadata": {},
   "outputs": [
    {
     "name": "stdout",
     "output_type": "stream",
     "text": [
      "Enter a no: 5\n",
      "1 2 3 4 5  \n",
      "1 2 3 4  \n",
      "1 2 3  \n",
      "1 2  \n",
      "1  \n",
      "1  \n",
      "1 2  \n",
      "1 2 3  \n",
      "1 2 3 4  \n",
      "1 2 3 4 5  \n"
     ]
    }
   ],
   "source": [
    "#pattern5.1\n",
    "n=int(input(\"Enter a no: \"))\n",
    "for a in range(1,n+1):\n",
    "    for b in range(1,n-a+2):\n",
    "        print(b, end=\" \")\n",
    "    print(\" \")\n",
    "for i in range(1,n+1):#to print rows\n",
    "    for j in range(1,i+1):#to print coloumns\n",
    "        print(j, end=\" \")\n",
    "    print(\" \")"
   ]
  },
  {
   "cell_type": "code",
   "execution_count": 28,
   "id": "0e0b6608",
   "metadata": {},
   "outputs": [
    {
     "name": "stdout",
     "output_type": "stream",
     "text": [
      "Enter a no: 5\n",
      "5 4 3 2 1  \n",
      "5 4 3 2  \n",
      "5 4 3  \n",
      "5 4  \n",
      "5  \n"
     ]
    }
   ],
   "source": [
    "n=int(input(\"Enter a no: \"))\n",
    "for i in range(1,n+1):#to print rows\n",
    "    for j in range(1,n-i+2):#to print coloumns\n",
    "        print(n-j+1, end=\" \")\n",
    "    print(\" \")"
   ]
  },
  {
   "cell_type": "code",
   "execution_count": null,
   "id": "4adedecf",
   "metadata": {},
   "outputs": [],
   "source": [
    "s=input(\"Enter a no: \")\n",
    "\n",
    "for i in range(1,n+1):#to print rows\n",
    "    for j in range(1,n-i+2):#to print coloumns\n",
    "        print(n-j+1, end=\" \")\n",
    "    print(\" \")"
   ]
  },
  {
   "cell_type": "code",
   "execution_count": 38,
   "id": "4442f03d",
   "metadata": {},
   "outputs": [
    {
     "name": "stdout",
     "output_type": "stream",
     "text": [
      "Enter a no: 5\n",
      "5 4 3 2 1  \n",
      "4 3 2 1  \n",
      "3 2 1  \n",
      "2 1  \n",
      "1  \n",
      "1  \n",
      "2 1  \n",
      "3 2 1  \n",
      "4 3 2 1  \n",
      "5 4 3 2 1  \n"
     ]
    }
   ],
   "source": [
    "#pattern5\n",
    "n=int(input(\"Enter a no: \"))\n",
    "for i in range(n,0,-1):#to print rows\n",
    "    for j in range(i,0,-1):#to print coloumns\n",
    "        print(j, end=\" \")\n",
    "    print(\" \")\n",
    "for a in range(1,n+1):#to print rows\n",
    "    for b in range(a,0,-1):#to print coloumns\n",
    "        print(b, end=\" \")\n",
    "    print(\" \")"
   ]
  },
  {
   "cell_type": "code",
   "execution_count": 42,
   "id": "d7092f54",
   "metadata": {},
   "outputs": [
    {
     "name": "stdout",
     "output_type": "stream",
     "text": [
      "Enter a no: 5\n",
      "    1  \n",
      "   1 2  \n",
      "  1 2 3  \n",
      " 1 2 3 4  \n",
      "1 2 3 4 5  \n"
     ]
    }
   ],
   "source": [
    "#pattern 6\n",
    "n=int(input(\"Enter a no: \"))\n",
    "for i in range(1,n+1):#to print rows\n",
    "    for a in range(1,n-i+1):\n",
    "        print(\" \",end=\"\")\n",
    "    for j in range(1,i+1):#to print coloumns\n",
    "        print(j, end=\" \")\n",
    "    print(\" \")"
   ]
  },
  {
   "cell_type": "code",
   "execution_count": 65,
   "id": "fc1f317b",
   "metadata": {},
   "outputs": [
    {
     "name": "stdout",
     "output_type": "stream",
     "text": [
      "Enter a no: 5\n",
      "5 4 3 2 1  \n",
      "5 4 3 2  \n",
      "5 4 3  \n",
      "5 4  \n",
      "5  \n"
     ]
    }
   ],
   "source": [
    "#pattern7\n",
    "n=int(input(\"Enter a no: \"))\n",
    "for i in range(n,0,-1):#to print rows\n",
    "    for j in range(1,i+1):#to print coloumns\n",
    "        print(n-j+1, end=\" \")\n",
    "    print(\" \")"
   ]
  },
  {
   "cell_type": "code",
   "execution_count": 73,
   "id": "a2b5aac3",
   "metadata": {},
   "outputs": [
    {
     "name": "stdout",
     "output_type": "stream",
     "text": [
      "Enter a no: 5\n",
      "5  \n",
      "5 4  \n",
      "5 4 3  \n",
      "5 4 3 2  \n",
      "5 4 3 2 1  \n"
     ]
    }
   ],
   "source": [
    "#pattern8\n",
    "n=int(input(\"Enter a no: \"))\n",
    "for i in range(1,n+1):#to print rows\n",
    "    for j in range(1,i+1):#to print coloumns\n",
    "        print(n-j+1, end=\" \")\n",
    "    print(\" \")"
   ]
  },
  {
   "cell_type": "code",
   "execution_count": 87,
   "id": "21b10d75",
   "metadata": {},
   "outputs": [
    {
     "name": "stdout",
     "output_type": "stream",
     "text": [
      "Enter a no: 5\n",
      "1 2 3 4 5  \n",
      "1 2 3 4  \n",
      "1 2 3  \n",
      "1 2  \n",
      "1  \n"
     ]
    }
   ],
   "source": [
    "#pattern9\n",
    "n=int(input(\"Enter a no: \"))\n",
    "for i in range(1,n+1):#to print rows\n",
    "    for j in range(1,n-i+2):#to print coloumns\n",
    "        print(j, end=\" \")\n",
    "    print(\" \")"
   ]
  },
  {
   "cell_type": "code",
   "execution_count": 92,
   "id": "02bab0fa",
   "metadata": {},
   "outputs": [
    {
     "name": "stdout",
     "output_type": "stream",
     "text": [
      "Enter a no: 5\n",
      "1  \n",
      "2 3  \n",
      "4 5 6  \n",
      "7 8 9 10  \n",
      "11 12 13 14 15  \n"
     ]
    }
   ],
   "source": [
    "#pattern10 floyd's triangle\n",
    "n=int(input(\"Enter a no: \"))\n",
    "k=1\n",
    "for i in range(1,n+1):#to print rows\n",
    "    for j in range(1,i+1):#to print coloumns\n",
    "        print(k, end=\" \")\n",
    "        k+=1\n",
    "    print(\" \")"
   ]
  },
  {
   "cell_type": "code",
   "execution_count": 97,
   "id": "0eada6d7",
   "metadata": {},
   "outputs": [
    {
     "name": "stdout",
     "output_type": "stream",
     "text": [
      "Enter a no: 5\n",
      "1  \n",
      "2 1  \n",
      "3 2 1  \n",
      "4 3 2 1  \n",
      "5 4 3 2 1  \n"
     ]
    }
   ],
   "source": [
    "#pattern11\n",
    "n=int(input(\"Enter a no: \"))\n",
    "for i in range(1,n+1):#to print rows\n",
    "    for j in range(1,i+1):#to print coloumns\n",
    "        print(i-j+1, end=\" \")\n",
    "    print(\" \")"
   ]
  },
  {
   "cell_type": "code",
   "execution_count": 147,
   "id": "b964d101",
   "metadata": {},
   "outputs": [
    {
     "name": "stdout",
     "output_type": "stream",
     "text": [
      "1 \n",
      "2 7 \n",
      "3 8 13 \n",
      "4 9 14 19 \n",
      "5 10 15 20 25 \n"
     ]
    }
   ],
   "source": [
    "#pattern12\n",
    "n=int(input(\"Enter a no: \"))\n",
    "for i in range(1,n+1):#to print rows\n",
    "    for j in range(1,i+1):#to print coloumns\n",
    "        print(i, end=\" \")\n",
    "        i+=5\n",
    "    print(\" \")"
   ]
  },
  {
   "cell_type": "code",
   "execution_count": 113,
   "id": "33b37dc1",
   "metadata": {},
   "outputs": [
    {
     "name": "stdout",
     "output_type": "stream",
     "text": [
      "Enter a no: 5\n",
      "     1  \n",
      "    11  \n",
      "   121  \n",
      "  1331  \n",
      " 14641  \n"
     ]
    }
   ],
   "source": [
    "#pattern13 pascles\n",
    "n=int(input(\"Enter a no: \"))\n",
    "for i in range(0,n):#to print rows\n",
    "    for a in range(1,n-i+1):\n",
    "        print(\" \",end=\"\")\n",
    "    #for j in range(1,i+1):#to print coloumns\n",
    "    print(11**i, end=\" \")\n",
    "    print(\" \")"
   ]
  },
  {
   "cell_type": "code",
   "execution_count": 123,
   "id": "77dce2c1",
   "metadata": {},
   "outputs": [
    {
     "name": "stdout",
     "output_type": "stream",
     "text": [
      "Enter a no: 5\n",
      " \n",
      "1  \n",
      " \n",
      "1 2 1  \n",
      " \n",
      "1 2 3 2 1  \n",
      " \n",
      "1 2 3 4 3 2 1  \n",
      " \n",
      "1 2 3 4 5 4 3 2 1  \n"
     ]
    }
   ],
   "source": [
    "#pattern14\n",
    "n=int(input(\"Enter a no: \"))   \n",
    "for i in range(1, n+1,):\n",
    "    print(\" \")\n",
    "    for a in range(1,i+1):\n",
    "        print(a,end=\" \")\n",
    "    for j in range(1,i):#to print coloumns\n",
    "        print(i-j, end=\" \")\n",
    "    print(\" \")\n",
    "    \n",
    "    "
   ]
  },
  {
   "cell_type": "code",
   "execution_count": 128,
   "id": "ab383635",
   "metadata": {},
   "outputs": [
    {
     "name": "stdout",
     "output_type": "stream",
     "text": [
      "Enter a no: 5\n",
      " 1 2 3 4 5  \n",
      "  1 2 3 4  \n",
      "   1 2 3  \n",
      "    1 2  \n",
      "     1  \n"
     ]
    }
   ],
   "source": [
    "#pattern15\n",
    "n=int(input(\"Enter a no: \"))\n",
    "for i in range(1,n+1):#to print rows\n",
    "    for a in range(1,i+1):\n",
    "        print(\" \",end=\"\")\n",
    "    for j in range(1,n+2-i):#to print coloumns\n",
    "        print(j, end=\" \")\n",
    "    print(\" \")"
   ]
  },
  {
   "cell_type": "code",
   "execution_count": 141,
   "id": "ddc299be",
   "metadata": {},
   "outputs": [
    {
     "name": "stdout",
     "output_type": "stream",
     "text": [
      "Enter a no: 5\n",
      "    1  \n",
      "   1 2  \n",
      "  1 2 3  \n",
      " 1 2 3 4  \n",
      "1 2 3 4 5  \n",
      " 1 2 3 4  \n",
      "  1 2 3  \n",
      "   1 2  \n",
      "    1  \n",
      "      \n"
     ]
    }
   ],
   "source": [
    "#pattern16\n",
    "n=int(input(\"Enter a no: \"))\n",
    "for i in range(1,n+1):#to print rows\n",
    "    for a in range(1,n-i+1):\n",
    "        print(\" \",end=\"\")\n",
    "    for j in range(1,i+1):#to print coloumns\n",
    "        print(j, end=\" \")\n",
    "    print(\" \")\n",
    "for i in range(1,n+1):#to print rows\n",
    "    for a in range(1,i+1):\n",
    "        print(\" \",end=\"\")\n",
    "    for j in range(1,n+1-i):#to print coloumns\n",
    "        print(j, end=\" \")\n",
    "    print(\" \")\n",
    "\n",
    "    "
   ]
  },
  {
   "cell_type": "code",
   "execution_count": 22,
   "id": "a331f1f1",
   "metadata": {},
   "outputs": [
    {
     "name": "stdout",
     "output_type": "stream",
     "text": [
      "Enter a no: 5\n",
      "54321 \n",
      " 5432 \n",
      "  543 \n",
      "   54 \n",
      "    5 \n",
      "    5 \n",
      "   45 \n",
      "  345 \n",
      " 2345 \n",
      "12345 \n"
     ]
    }
   ],
   "source": [
    "#pattern17\n",
    "n=int(input(\"Enter a no: \"))\n",
    "for i in range(1,n+1):#to print rows\n",
    "    for a in range(1,i):\n",
    "        print(\" \",end=\"\")\n",
    "    for j in range(1,n+2-i):#to print coloumns\n",
    "        print(n-j+1, end=\"\")\n",
    "    print(\" \")\n",
    "for b in range(1, n+1):#to print rows\n",
    "    for d in range(n,b,-1):\n",
    "        print(\" \",end=\"\")\n",
    "    for c in range(1,b+1):#to print coloumns\n",
    "        print(n-b+c, end=\"\")\n",
    "    print(\" \")\n"
   ]
  },
  {
   "cell_type": "code",
   "execution_count": 32,
   "id": "05cb204f",
   "metadata": {},
   "outputs": [
    {
     "name": "stdout",
     "output_type": "stream",
     "text": [
      "Enter a no: 5\n",
      "1 2 3 4 5  \n",
      " 2 3 4 5  \n",
      "  3 4 5  \n",
      "   4 5  \n",
      "    5  \n",
      "    5  \n",
      "   4 5  \n",
      "  3 4 5  \n",
      " 2 3 4 5  \n",
      "1 2 3 4 5  \n"
     ]
    }
   ],
   "source": [
    "#pattern18\n",
    "n=int(input(\"Enter a no: \"))\n",
    "for i in range(1,n+1):\n",
    "    for a in range(1,i):\n",
    "        print(\" \",end=\"\")\n",
    "    for j in range(1,n+2-i):#to print coloumns\n",
    "        print(j+i-1, end=\" \")\n",
    "    print(\" \")\n",
    "for b in range(1, n+1):#to print rows\n",
    "    for d in range(n,b,-1):\n",
    "        print(\" \",end=\"\")\n",
    "    for c in range(1,b+1):#to print coloumns\n",
    "        print(n-b+c, end=\" \")\n",
    "    print(\" \")"
   ]
  },
  {
   "cell_type": "code",
   "execution_count": 33,
   "id": "7e5ef92a",
   "metadata": {},
   "outputs": [
    {
     "name": "stdout",
     "output_type": "stream",
     "text": [
      "Enter a no: 5\n",
      "    5  \n",
      "   4 5  \n",
      "  3 4 5  \n",
      " 2 3 4 5  \n",
      "1 2 3 4 5  \n"
     ]
    }
   ],
   "source": [
    "#pattern19\n",
    "n=int(input(\"Enter a no: \"))\n",
    "for b in range(1, n+1):#to print rows\n",
    "    for d in range(n,b,-1):\n",
    "        print(\" \",end=\"\")\n",
    "    for c in range(1,b+1):#to print coloumns\n",
    "        print(n-b+c, end=\" \")\n",
    "    print(\" \")"
   ]
  },
  {
   "cell_type": "code",
   "execution_count": 39,
   "id": "141ac1b6",
   "metadata": {},
   "outputs": [
    {
     "name": "stdout",
     "output_type": "stream",
     "text": [
      "Enter a no: 5\n",
      " \n",
      "        1  \n",
      " \n",
      "      1 2 1  \n",
      " \n",
      "    1 2 3 2 1  \n",
      " \n",
      "  1 2 3 4 3 2 1  \n",
      " \n",
      "1 2 3 4 5 4 3 2 1  \n"
     ]
    }
   ],
   "source": [
    "#pattern20\n",
    "n=int(input(\"Enter a no: \"))   \n",
    "for i in range(1, n+1,):\n",
    "    print(\" \")\n",
    "    for b in range(n,i,-1):\n",
    "        print(\" \",end=\" \")\n",
    "    for a in range(1,i+1):\n",
    "        print(a,end=\" \")\n",
    "    for j in range(1,i):#to print coloumns\n",
    "        print(i-j, end=\" \")\n",
    "    print(\" \")"
   ]
  },
  {
   "cell_type": "code",
   "execution_count": 41,
   "id": "773eaf86",
   "metadata": {},
   "outputs": [
    {
     "name": "stdout",
     "output_type": "stream",
     "text": [
      "Enter a no: 5\n",
      "1  \n",
      "1 0  \n",
      "1 0 1  \n",
      "1 0 1 0  \n",
      "1 0 1 0 1  \n"
     ]
    }
   ],
   "source": [
    "#pattern21\n",
    "n=int(input(\"Enter a no: \"))\n",
    "for i in range(1,n+1):#\n",
    "    for j in range(1,i+1):\n",
    "        print(j%2, end=\" \")\n",
    "    print(\" \")"
   ]
  },
  {
   "cell_type": "code",
   "execution_count": 45,
   "id": "bf12f7ec",
   "metadata": {},
   "outputs": [
    {
     "name": "stdout",
     "output_type": "stream",
     "text": [
      "Enter a no: 5\n",
      "1 0 0 0 0  \n",
      "0 2 0 0 0  \n",
      "0 0 3 0 0  \n",
      "0 0 0 4 0  \n",
      "0 0 0 0 5  \n"
     ]
    }
   ],
   "source": [
    "#pattern22\n",
    "n=int(input(\"Enter a no: \"))\n",
    "a=0\n",
    "for i in range(1,n+1):#\n",
    "    for j in range(1,n+1):\n",
    "        if i==j:\n",
    "            print(j, end=\" \")\n",
    "        else:\n",
    "            print(a, end=\" \")\n",
    "    print(\" \")"
   ]
  },
  {
   "cell_type": "code",
   "execution_count": 61,
   "id": "04d64c98",
   "metadata": {},
   "outputs": [
    {
     "name": "stdout",
     "output_type": "stream",
     "text": [
      "Enter a no: 5\n",
      "1 1 1 1 1  \n",
      "1 1 1 2 2  \n",
      "1 1 3 3 3  \n",
      "1 4 4 4 4  \n",
      "5 5 5 5 5  \n"
     ]
    }
   ],
   "source": [
    "#pattern23\n",
    "n=int(input(\"Enter a no: \"))\n",
    "for i in range(1,n+1):#to print rows\n",
    "    for j in range(1,n-i+1):#to print coloumns\n",
    "        print(1, end=\" \")\n",
    "    for j in range(1,i+1):#to print coloumns\n",
    "        print(i, end=\" \")\n",
    "    print(\" \")"
   ]
  },
  {
   "cell_type": "code",
   "execution_count": 85,
   "id": "119a83ea",
   "metadata": {},
   "outputs": [
    {
     "name": "stdout",
     "output_type": "stream",
     "text": [
      "Enter a no: 5\n",
      "1 2 3 4 5 4 3 2 1  \n",
      "2 3 4 5 4 3 2  \n",
      "3 4 5 4 3  \n",
      "4 5 4  \n",
      "5  \n"
     ]
    }
   ],
   "source": [
    "#pattern24\n",
    "n=int(input(\"Enter a no: \"))\n",
    "for i in range(1,n+1):#\n",
    "    for j in range(1,n-i+1):\n",
    "        print(j+i-1, end=\" \")\n",
    "    for j in range(1,n+2-i):#to print coloumns\n",
    "        print(n-j+1, end=\" \")\n",
    "    print(\" \")\n",
    "    \n",
    "  \n",
    "    "
   ]
  },
  {
   "cell_type": "code",
   "execution_count": 87,
   "id": "bb382862",
   "metadata": {},
   "outputs": [
    {
     "name": "stdout",
     "output_type": "stream",
     "text": [
      "Enter a no: 5\n",
      "    1  \n",
      "   2 2  \n",
      "  3 3 3  \n",
      " 4 4 4 4  \n",
      "5 5 5 5 5  \n"
     ]
    }
   ],
   "source": [
    "#pattern25\n",
    "n=int(input(\"Enter a no: \"))\n",
    "for i in range(1,n+1):#to print rows\n",
    "    for a in range(1,n-i+1):\n",
    "        print(\" \",end=\"\")\n",
    "    for j in range(1,i+1):#to print coloumns\n",
    "        print(i, end=\" \")\n",
    "    print(\" \")"
   ]
  },
  {
   "cell_type": "code",
   "execution_count": 101,
   "id": "9702ffef",
   "metadata": {},
   "outputs": [
    {
     "name": "stdout",
     "output_type": "stream",
     "text": [
      "Enter a no: 5\n",
      "5 5 5 5 5  \n",
      "4 5 5 5 5  \n",
      "3 4 5 5 5  \n",
      "2 3 4 5 5  \n",
      "1 2 3 4 5  \n"
     ]
    }
   ],
   "source": [
    "#pattern26\n",
    "n=int(input(\"Enter a no: \"))\n",
    "for b in range(1, n+1):#to print rows\n",
    "    for c in range(1,b+1):#to print coloumns\n",
    "        print(n-b+c, end=\" \")\n",
    "    for a in range(n,b,-1):\n",
    "        print(n,end=\" \")\n",
    "    print(\" \")\n",
    "      "
   ]
  },
  {
   "cell_type": "code",
   "execution_count": 104,
   "id": "95acf13f",
   "metadata": {},
   "outputs": [
    {
     "name": "stdout",
     "output_type": "stream",
     "text": [
      "Enter a no: 5\n",
      "1  \n",
      "2 6  \n",
      "3 7 10  \n",
      "4 8 11 13  \n",
      "5 9 12 14 15  \n"
     ]
    }
   ],
   "source": [
    "#pattern27\n",
    "n=int(input(\"Enter a no: \"))\n",
    "for i in range(1,n+1):#to print rows\n",
    "    for j in range(1,i+1):#to print coloumns\n",
    "        print(i, end=\" \")\n",
    "        i=i+n-j\n",
    "    print(\" \")"
   ]
  },
  {
   "cell_type": "code",
   "execution_count": 21,
   "id": "b4603ae0",
   "metadata": {},
   "outputs": [
    {
     "name": "stdout",
     "output_type": "stream",
     "text": [
      "Enter a no: 5\n",
      "1  \n",
      "2 4  \n",
      "3 6 12  \n",
      "4 8 16 32  \n",
      "5 6 7  \n",
      "6 7  \n",
      "7  \n",
      " \n"
     ]
    }
   ],
   "source": [
    "#pattern28\n",
    "n=int(input(\"Enter a no: \"))\n",
    "for i in range(1,n):#to print rows\n",
    "    for j in range(1,i+1):#to print coloumns\n",
    "        print(i, end=\" \")\n",
    "        i=i*2\n",
    "    print(\" \")\n",
    "for a in range(1,n):#to print rows\n",
    "    for b in range(1,n-a):#to print coloumns\n",
    "        print(n+b+a-2, end=\" \")\n",
    "        c=n+b+a-2\n",
    "        c*=2\n",
    "        \n",
    "        \n",
    "    print(\" \")"
   ]
  },
  {
   "cell_type": "code",
   "execution_count": 1,
   "id": "2f893203",
   "metadata": {},
   "outputs": [
    {
     "name": "stdout",
     "output_type": "stream",
     "text": [
      "1 \n",
      "2 4 \n",
      "3 6 9 \n",
      "4 8 12 16 \n",
      "5 10 15 20 25 \n"
     ]
    }
   ],
   "source": [
    "for i in range(1,6):\n",
    "    for j in range(1,i+1):\n",
    "        a=j*i\n",
    "        print(a,end=\" \")\n",
    "    print(\"\")"
   ]
  },
  {
   "cell_type": "code",
   "execution_count": null,
   "id": "6c4f6f7b",
   "metadata": {},
   "outputs": [],
   "source": []
  }
 ],
 "metadata": {
  "kernelspec": {
   "display_name": "Python 3 (ipykernel)",
   "language": "python",
   "name": "python3"
  },
  "language_info": {
   "codemirror_mode": {
    "name": "ipython",
    "version": 3
   },
   "file_extension": ".py",
   "mimetype": "text/x-python",
   "name": "python",
   "nbconvert_exporter": "python",
   "pygments_lexer": "ipython3",
   "version": "3.9.7"
  }
 },
 "nbformat": 4,
 "nbformat_minor": 5
}
