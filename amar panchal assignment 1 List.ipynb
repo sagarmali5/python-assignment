{
 "cells": [
  {
   "cell_type": "markdown",
   "id": "e30f6052",
   "metadata": {},
   "source": [
    "Question 1 - Given a two list. Create a third list by picking an odd-index element from the first list and even index elements from the second."
   ]
  },
  {
   "cell_type": "code",
   "execution_count": 1,
   "id": "a697c3c7",
   "metadata": {},
   "outputs": [
    {
     "name": "stdout",
     "output_type": "stream",
     "text": [
      "odd index list is [6, 12, 18]\n",
      "even index list is [4, 12, 20, 28]\n",
      "Final list is [6, 12, 18, 4, 12, 20, 28]\n"
     ]
    }
   ],
   "source": [
    "listOne = [3, 6, 9, 12, 15, 18, 21]\n",
    "listTwo = [4, 8, 12, 16, 20, 24, 28]\n",
    "odd=[]\n",
    "even=[]\n",
    "listThird=[]\n",
    "for i in range(0,len(listOne)):\n",
    "    if i%2!=0:\n",
    "        odd.append(listOne[i])\n",
    "print(\"odd index list is\", odd)\n",
    "\n",
    "for i in range(0,len(listTwo)):\n",
    "    if i%2==0:\n",
    "        even.append(listTwo[i])\n",
    "print(\"even index list is\",even)\n",
    "\n",
    "listThird.extend(odd)\n",
    "listThird.extend(even)\n",
    "print(\"Final list is\", listThird)\n",
    "    "
   ]
  },
  {
   "cell_type": "markdown",
   "id": "50aa9bc3",
   "metadata": {},
   "source": [
    "Question 2 - Given a number count the total number of digits in a number"
   ]
  },
  {
   "cell_type": "code",
   "execution_count": 42,
   "id": "aaab77eb",
   "metadata": {},
   "outputs": [
    {
     "name": "stdout",
     "output_type": "stream",
     "text": [
      "[1, 2, 3, 4, 1, 4, 3, 7, 3]\n"
     ]
    }
   ],
   "source": [
    "a=[1,23,344,4695,5,6524,215,7854123,654]\n",
    "t=[]\n",
    "for i in a:\n",
    "    count=0\n",
    "    while i>0:\n",
    "        i=i//10\n",
    "        count+=1\n",
    "    t.append(count)\n",
    "print(t)"
   ]
  },
  {
   "cell_type": "markdown",
   "id": "f29becb2",
   "metadata": {},
   "source": [
    "Question 3 - Write a Python program to print the numbers of a specified list after removing even numbers from it.  \n"
   ]
  },
  {
   "cell_type": "code",
   "execution_count": 64,
   "id": "cbd2e833",
   "metadata": {},
   "outputs": [
    {
     "name": "stdout",
     "output_type": "stream",
     "text": [
      "enter a element1\n",
      "enter a element2\n",
      "enter a element3\n",
      "enter a element4\n",
      "enter a element5\n",
      "enter a element6\n",
      "enter a element7\n",
      "enter a element8\n",
      "enter a element9\n",
      "enter a element\n",
      "[1, 2, 3, 4, 5, 6, 7, 8, 9]\n",
      "[1, 3, 5, 7, 9]\n"
     ]
    }
   ],
   "source": [
    "a=[]\n",
    "b=[]\n",
    "c=[]\n",
    "while True:\n",
    "    b=input(\"enter a element\")\n",
    "    if b==\"\":\n",
    "        break\n",
    "    a.append(int(b))\n",
    "print(a)\n",
    "\n",
    "for i in a:\n",
    "    if i%2==0:\n",
    "        continue\n",
    "    c.append(i)\n",
    "print(c)"
   ]
  },
  {
   "cell_type": "markdown",
   "id": "d8faabeb",
   "metadata": {},
   "source": [
    "Question 4 -  Write a Python program to generate and print a list of first and last 5 elements where the values are square of numbers between 1 and 30 (both included)."
   ]
  },
  {
   "cell_type": "code",
   "execution_count": 74,
   "id": "ee106faa",
   "metadata": {},
   "outputs": [
    {
     "name": "stdout",
     "output_type": "stream",
     "text": [
      "[1, 2, 3, 4, 5, 6, 7, 8, 9, 10, 11, 12, 13, 14, 15, 16, 17, 18, 19, 20, 21, 22, 23, 24, 25, 26, 27, 28, 29, 30]\n",
      "[1, 4, 9, 16, 25, 36, 49, 64, 81, 100, 121, 144, 169, 196, 225, 256, 289, 324, 361, 400, 441, 484, 529, 576, 625, 676, 729, 784, 841, 900]\n",
      "[1, 4, 9, 16, 25]\n"
     ]
    }
   ],
   "source": [
    "a=[]\n",
    "c=[]\n",
    "e=[]\n",
    "for i in range(1,31):\n",
    "    a.append(i)\n",
    "print(a)\n",
    "\n",
    "for b in a:\n",
    "    b=b**2\n",
    "    c.append(b)\n",
    "print(c)\n",
    "\n",
    "for d in c:\n",
    "    if d<=30:\n",
    "        e.append(d)\n",
    "print(e)\n",
    "        \n"
   ]
  },
  {
   "cell_type": "code",
   "execution_count": 111,
   "id": "4daec875",
   "metadata": {},
   "outputs": [
    {
     "name": "stdout",
     "output_type": "stream",
     "text": [
      "enter a input1\n",
      "enter a input2\n",
      "enter a input3\n",
      "enter a input6\n",
      "enter a input5\n",
      "enter a input4\n",
      "enter a input7\n",
      "enter a input8\n",
      "enter a input9\n",
      "enter a input5\n",
      "enter a input3\n",
      "enter a input2\n",
      "enter a input1\n",
      "enter a input4\n",
      "enter a input5\n",
      "enter a input2\n",
      "enter a input3\n",
      "enter a input1\n",
      "enter a input6\n",
      "enter a input9\n",
      "enter a input5\n",
      "enter a input1\n",
      "enter a input2\n",
      "enter a input\n",
      "[1, 2, 3, 6, 5, 4, 7, 8, 9, 5, 3, 2, 1, 4, 5, 2, 3, 1, 6, 9, 5, 1, 2]\n",
      "[1, 4, 9, 36, 25, 16, 49, 64, 81, 25, 9, 4, 1, 16, 25, 4, 9, 1, 36, 81, 25, 1, 4]\n",
      "[1, 4, 9, 25]\n",
      "[1, 4, 25]\n",
      "[1, 4, 9, 25, 1, 4, 25]\n"
     ]
    }
   ],
   "source": [
    "a=[]\n",
    "d=[]\n",
    "z=[]\n",
    "y=[]\n",
    "final=[]\n",
    "while True:\n",
    "    b=input(\"enter a input\")\n",
    "    if b==\"\":\n",
    "        break\n",
    "    a.append(int(b))\n",
    "print(a)\n",
    "\n",
    "for c in a:\n",
    "    c=c**2\n",
    "    d.append(c)\n",
    "print(d)\n",
    "\n",
    "for e in d[0:5]:\n",
    "    if e<=30:\n",
    "        z.append(e)\n",
    "print(z)\n",
    "        \n",
    "for g in d[: -6:-1]:\n",
    "    if g<=30:\n",
    "        y.append(g)\n",
    "        y.sort()\n",
    "print(y)\n",
    "\n",
    "final.extend(z)\n",
    "final.extend(y)\n",
    "print(final)\n",
    "\n"
   ]
  },
  {
   "cell_type": "markdown",
   "id": "d0a380e2",
   "metadata": {},
   "source": [
    "Question 5 - Write a Python program to generate all permutations of a list in Python.\n"
   ]
  },
  {
   "cell_type": "markdown",
   "id": "656844e6",
   "metadata": {},
   "source": [
    "Question 6 - Write a python program to check whether two lists are circularly identical."
   ]
  },
  {
   "cell_type": "code",
   "execution_count": 14,
   "id": "464870d2",
   "metadata": {},
   "outputs": [
    {
     "name": "stdout",
     "output_type": "stream",
     "text": [
      "two lists are identical\n"
     ]
    }
   ],
   "source": [
    "a=[1,1,0,0]  \n",
    "b=[0,0,1,1] \n",
    "e=0\n",
    "while True:\n",
    "    c=a[0]\n",
    "    a.pop(0)\n",
    "    a.append(c)\n",
    "    d=len(b)\n",
    "    e+=1\n",
    "    if a==b:\n",
    "        print('two lists are identical')\n",
    "        break\n",
    "    \n",
    "    if e==d:\n",
    "        print('two lists are not identical')\n",
    "        break"
   ]
  },
  {
   "cell_type": "markdown",
   "id": "f8727135",
   "metadata": {},
   "source": [
    "Question 7 - Write a python program to change the position of every n-th value with the (n+1)th in a list"
   ]
  },
  {
   "cell_type": "code",
   "execution_count": 3,
   "id": "9a3ea24c",
   "metadata": {},
   "outputs": [
    {
     "name": "stdout",
     "output_type": "stream",
     "text": [
      "Enter data:1\n",
      "Enter data:2\n",
      "Enter data:3\n",
      "Enter data:4\n",
      "Enter data:5\n",
      "Enter data:6\n",
      "Enter data:7\n",
      "Enter data:8\n",
      "Enter data:9\n",
      "Enter data:10\n",
      "Enter data:\n",
      "[1, 2, 3, 4, 5, 6, 7, 8, 9, 10]\n",
      "[2, 1, 4, 3, 6, 5, 8, 7, 10, 9]\n"
     ]
    }
   ],
   "source": [
    "a=[]\n",
    "while True:\n",
    "    e=input(\"Enter data:\")\n",
    "    if e=='':\n",
    "        break\n",
    "    a.append(int(e))\n",
    "print(a)\n",
    "for i in range(0,len(a),2):\n",
    "    a[i],a[i+1]=a[i+1],a[i]\n",
    "print(a)"
   ]
  },
  {
   "cell_type": "markdown",
   "id": "5f1ce6b4",
   "metadata": {},
   "source": [
    "Question 8 - Write a Python program to iterate over two lists simultaneously.  "
   ]
  },
  {
   "cell_type": "code",
   "execution_count": 8,
   "id": "c5be7a56",
   "metadata": {},
   "outputs": [
    {
     "name": "stdout",
     "output_type": "stream",
     "text": [
      "1 a\n",
      "2 b\n",
      "3 c\n",
      "4 d\n",
      "5 e\n"
     ]
    }
   ],
   "source": [
    "z=[1,2,3,4,5]\n",
    "y=[\"a\",\"b\",\"c\",\"d\",\"e\"]\n",
    "for i,j in zip(z,y):\n",
    "    print(i,j)"
   ]
  },
  {
   "cell_type": "markdown",
   "id": "b7149848",
   "metadata": {},
   "source": [
    "Question 9 - Write a Python program to generate the combinations of n distinct objects taken from the elements of a given list. Original list: [1, 2, 3, 4, 5, 6, 7, 8, 9] \n",
    "Combinations of 2 distinct objects: [1, 2] [1, 3] [1, 4] [1, 5] .... [7, 8] [7, 9] [8, 9]"
   ]
  },
  {
   "cell_type": "code",
   "execution_count": 9,
   "id": "9440d4dc",
   "metadata": {},
   "outputs": [
    {
     "name": "stdout",
     "output_type": "stream",
     "text": [
      "[[1, 2], [1, 3], [1, 4], [1, 5], [1, 6], [1, 7], [1, 8], [1, 9], [2, 1], [2, 3], [2, 4], [2, 5], [2, 6], [2, 7], [2, 8], [2, 9], [3, 1], [3, 2], [3, 4], [3, 5], [3, 6], [3, 7], [3, 8], [3, 9], [4, 1], [4, 2], [4, 3], [4, 5], [4, 6], [4, 7], [4, 8], [4, 9], [5, 1], [5, 2], [5, 3], [5, 4], [5, 6], [5, 7], [5, 8], [5, 9], [6, 1], [6, 2], [6, 3], [6, 4], [6, 5], [6, 7], [6, 8], [6, 9], [7, 1], [7, 2], [7, 3], [7, 4], [7, 5], [7, 6], [7, 8], [7, 9], [8, 1], [8, 2], [8, 3], [8, 4], [8, 5], [8, 6], [8, 7], [8, 9], [9, 1], [9, 2], [9, 3], [9, 4], [9, 5], [9, 6], [9, 7], [9, 8]]\n"
     ]
    }
   ],
   "source": [
    "a=[1,2,3,4,5,6,7,8,9]\n",
    "ab=[]\n",
    "for i in a:\n",
    "    for j in a:\n",
    "        if i==j:\n",
    "            continue\n",
    "        else:\n",
    "            ab.append([i,j])\n",
    "print(ab)"
   ]
  },
  {
   "cell_type": "markdown",
   "id": "e11f3ccc",
   "metadata": {},
   "source": [
    "Question 10 - Write a Python program to remove duplicates from a list of lists. "
   ]
  },
  {
   "cell_type": "code",
   "execution_count": 10,
   "id": "3b9b6cd0",
   "metadata": {},
   "outputs": [
    {
     "name": "stdout",
     "output_type": "stream",
     "text": [
      "[[10, 20], [40], [30, 6, 25], [10, 20], [33], [40], [20, 95]]\n",
      "[[10, 20], [20, 95], [30, 6, 25], [33], [40]]\n"
     ]
    }
   ],
   "source": [
    "a=[[10,20],[40],[30,6,25],[10,20],[33],[40],[20,95]]\n",
    "b=[]\n",
    "for i in a:\n",
    "    if i not in b:\n",
    "        b.append(i)\n",
    "print(a)\n",
    "print(sorted(b))"
   ]
  },
  {
   "cell_type": "code",
   "execution_count": null,
   "id": "514f7781",
   "metadata": {},
   "outputs": [],
   "source": []
  }
 ],
 "metadata": {
  "kernelspec": {
   "display_name": "Python 3 (ipykernel)",
   "language": "python",
   "name": "python3"
  },
  "language_info": {
   "codemirror_mode": {
    "name": "ipython",
    "version": 3
   },
   "file_extension": ".py",
   "mimetype": "text/x-python",
   "name": "python",
   "nbconvert_exporter": "python",
   "pygments_lexer": "ipython3",
   "version": "3.9.7"
  }
 },
 "nbformat": 4,
 "nbformat_minor": 5
}
