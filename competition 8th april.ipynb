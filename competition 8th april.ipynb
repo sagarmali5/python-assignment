{
 "cells": [
  {
   "cell_type": "markdown",
   "id": "d0fe414b",
   "metadata": {},
   "source": [
    "The program takes a number from the user and generates a dictionary that contains\n",
    "numbers (between 1 and n) in the form (x,x*x)."
   ]
  },
  {
   "cell_type": "code",
   "execution_count": 1,
   "id": "7b718212",
   "metadata": {},
   "outputs": [
    {
     "name": "stdout",
     "output_type": "stream",
     "text": [
      "Enter a no5\n",
      "{1: 1, 2: 4, 3: 9, 4: 16, 5: 25}\n"
     ]
    }
   ],
   "source": [
    "a= int(input(\"Enter a no\"))\n",
    "b={}\n",
    "for i in range(1,a+1):\n",
    "    c= i*i\n",
    "    b[i]=c\n",
    "print(b)\n",
    "    "
   ]
  },
  {
   "cell_type": "markdown",
   "id": "147ce0af",
   "metadata": {},
   "source": [
    "The program takes a range and creates a list of tuples within that range with the first\n",
    "element as the number and the second element as the square of the number."
   ]
  },
  {
   "cell_type": "code",
   "execution_count": 3,
   "id": "e11748c9",
   "metadata": {},
   "outputs": [
    {
     "name": "stdout",
     "output_type": "stream",
     "text": [
      "Enter a lower no1\n",
      "Enter a upper no6\n",
      "[(1, 1), (2, 4), (3, 9), (4, 16), (5, 25), (6, 36)]\n"
     ]
    }
   ],
   "source": [
    "a= int(input(\"Enter a lower no\"))\n",
    "b= int(input(\"Enter a upper no\"))\n",
    "c=[]\n",
    "for i in range(a, b+1):\n",
    "    d= (i,i*i)\n",
    "    c.append(d)\n",
    "print(c)"
   ]
  },
  {
   "cell_type": "markdown",
   "id": "be1f6ba8",
   "metadata": {},
   "source": [
    "The program takes a list from the user and finds the cumulative sum of a list where the\n",
    "ith element is the sum of the first i+1 elements from the original list."
   ]
  },
  {
   "cell_type": "code",
   "execution_count": 13,
   "id": "5c6bbff7",
   "metadata": {},
   "outputs": [
    {
     "name": "stdout",
     "output_type": "stream",
     "text": [
      "enter a no: 1\n",
      "enter a no: 2\n",
      "enter a no: 3\n",
      "enter a no: 4\n",
      "enter a no: 5\n",
      "enter a no: \n",
      "[1, 2, 3, 4, 5]\n",
      "[1, 3, 6, 10, 15]\n"
     ]
    }
   ],
   "source": [
    "a=[]\n",
    "while True:\n",
    "    e=input(\"enter a no: \")\n",
    "    if e==\"\":\n",
    "        break\n",
    "    a.append(int(e))\n",
    "b=[]\n",
    "d=0\n",
    "print(a) \n",
    "for i in a:\n",
    "    d=d+i\n",
    "    b.append(d)\n",
    "print(b)\n",
    "    "
   ]
  },
  {
   "cell_type": "markdown",
   "id": "9f7a535d",
   "metadata": {},
   "source": [
    "The program takes a range and prints all numbers which are odd and palindromes\n",
    "between the range without using recursion."
   ]
  },
  {
   "cell_type": "code",
   "execution_count": 21,
   "id": "bfd07db7",
   "metadata": {},
   "outputs": [
    {
     "name": "stdout",
     "output_type": "stream",
     "text": [
      "Enter a lower no100\n",
      "Enter a upper no199\n",
      "[101, 111, 121, 131, 141, 151, 161, 171, 181, 191]\n"
     ]
    }
   ],
   "source": [
    "a= int(input(\"Enter a lower no\"))\n",
    "b= int(input(\"Enter a upper no\"))\n",
    "c=[]\n",
    "for i in range(a,b+1):\n",
    "    if i % 2 != 0:\n",
    "        temp=str(i)\n",
    "        b=str(i)\n",
    "        temp1=(b[::-1])\n",
    "        if temp == temp1:\n",
    "            c.append(int(temp))\n",
    "print(c)\n",
    "            \n",
    "        \n",
    "        \n",
    "        "
   ]
  },
  {
   "cell_type": "markdown",
   "id": "20227982",
   "metadata": {},
   "source": [
    "The program accepts a hyphen separated sequence of words as input and print the\n",
    "words in a hyphen-separated sequence after sorting them alphabetically."
   ]
  },
  {
   "cell_type": "code",
   "execution_count": 26,
   "id": "59368e86",
   "metadata": {},
   "outputs": [
    {
     "name": "stdout",
     "output_type": "stream",
     "text": [
      "enter: red-green-blue-yellow\n",
      "blue-green-red-yellow\n"
     ]
    }
   ],
   "source": [
    "a=input(\"enter: \")\n",
    "\n",
    "b=a.split(\"-\")\n",
    "\n",
    "b.sort()\n",
    "print(\"-\".join(b))\n"
   ]
  },
  {
   "cell_type": "code",
   "execution_count": null,
   "id": "5729f069",
   "metadata": {},
   "outputs": [],
   "source": [
    "a=[]\n",
    "while True:\n",
    "    e=input(\"enter a no: \")\n",
    "    if e==\"\":\n",
    "        break\n",
    "    a.append(int(e))\n",
    "b=[]\n",
    "\n"
   ]
  }
 ],
 "metadata": {
  "kernelspec": {
   "display_name": "Python 3 (ipykernel)",
   "language": "python",
   "name": "python3"
  },
  "language_info": {
   "codemirror_mode": {
    "name": "ipython",
    "version": 3
   },
   "file_extension": ".py",
   "mimetype": "text/x-python",
   "name": "python",
   "nbconvert_exporter": "python",
   "pygments_lexer": "ipython3",
   "version": "3.9.7"
  }
 },
 "nbformat": 4,
 "nbformat_minor": 5
}
